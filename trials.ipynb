{
 "cells": [
  {
   "cell_type": "code",
   "execution_count": 1,
   "id": "063d6254",
   "metadata": {},
   "outputs": [],
   "source": [
    "from tkinter import *\n",
    "root = Tk()\n",
    "root.geometry('250x200+250+200')\n",
    "Label(root, text=\"Position 1 : x=0, y=0\", bg=\"#FFFF00\", fg=\"white\").place(x=5, y=0)\n",
    "Label(root, text=\"Position 2 : x=50, y=40\", bg=\"#3300CC\", fg=\"white\").place(x=50, y=40)\n",
    "Label(root, text=\"Position 3 : x=75, y=80\", bg=\"#FF0099\", fg=\"white\").place(x=75, y=80)\n",
    "root.mainloop()"
   ]
  },
  {
   "cell_type": "code",
   "execution_count": null,
   "id": "4e3acb41",
   "metadata": {},
   "outputs": [],
   "source": []
  }
 ],
 "metadata": {
  "kernelspec": {
   "display_name": "Python 3 (ipykernel)",
   "language": "python",
   "name": "python3"
  },
  "language_info": {
   "codemirror_mode": {
    "name": "ipython",
    "version": 3
   },
   "file_extension": ".py",
   "mimetype": "text/x-python",
   "name": "python",
   "nbconvert_exporter": "python",
   "pygments_lexer": "ipython3",
   "version": "3.9.5"
  }
 },
 "nbformat": 4,
 "nbformat_minor": 5
}
